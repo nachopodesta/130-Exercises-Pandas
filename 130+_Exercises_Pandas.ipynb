{
  "nbformat": 4,
  "nbformat_minor": 0,
  "metadata": {
    "colab": {
      "name": "130+ Exercises Pandas.ipynb",
      "provenance": [],
      "authorship_tag": "ABX9TyPqKDBLfLzoeUFwg/+LB+Mb",
      "include_colab_link": true
    },
    "kernelspec": {
      "name": "python3",
      "display_name": "Python 3"
    },
    "language_info": {
      "name": "python"
    }
  },
  "cells": [
    {
      "cell_type": "markdown",
      "metadata": {
        "id": "view-in-github",
        "colab_type": "text"
      },
      "source": [
        "<a href=\"https://colab.research.google.com/github/nachopodesta/130-Exercises-Pandas/blob/main/130%2B_Exercises_Pandas.ipynb\" target=\"_parent\"><img src=\"https://colab.research.google.com/assets/colab-badge.svg\" alt=\"Open In Colab\"/></a>"
      ]
    },
    {
      "cell_type": "code",
      "source": [
        "import pandas as pd\n",
        "import numpy as np"
      ],
      "metadata": {
        "id": "8yyi1Ek4rjPU"
      },
      "execution_count": 62,
      "outputs": []
    },
    {
      "cell_type": "code",
      "execution_count": null,
      "metadata": {
        "id": "mnO-u0RTrWO9"
      },
      "outputs": [],
      "source": [
        "#Exercise 1\n",
        "\n",
        "stocks = ['PLW', 'CDR', '11B', 'TEN']"
      ]
    },
    {
      "cell_type": "code",
      "source": [
        "#create a Series object\n",
        "series = pd.Series(stocks)\n",
        "series"
      ],
      "metadata": {
        "colab": {
          "base_uri": "https://localhost:8080/"
        },
        "id": "T1QEA5s1rlqe",
        "outputId": "1d23927a-7445-49b4-a928-f8ce10e5618a"
      },
      "execution_count": null,
      "outputs": [
        {
          "output_type": "execute_result",
          "data": {
            "text/plain": [
              "0    PLW\n",
              "1    CDR\n",
              "2    11B\n",
              "3    TEN\n",
              "dtype: object"
            ]
          },
          "metadata": {},
          "execution_count": 3
        }
      ]
    },
    {
      "cell_type": "code",
      "source": [
        "#Exercise 2\n",
        "\n",
        "stocks = {'PLW': 387.00, 'CDR': 339.5, 'TEN': 349.5, '11B': 391.0}\n"
      ],
      "metadata": {
        "id": "O2EbyYYfsrx7"
      },
      "execution_count": null,
      "outputs": []
    },
    {
      "cell_type": "code",
      "source": [
        "quotations = pd.Series(data=stocks)\n",
        "quotations"
      ],
      "metadata": {
        "colab": {
          "base_uri": "https://localhost:8080/"
        },
        "id": "4Qnf63ffswwK",
        "outputId": "7f023a05-c915-492f-babd-a8ce6f75d0c0"
      },
      "execution_count": null,
      "outputs": [
        {
          "output_type": "execute_result",
          "data": {
            "text/plain": [
              "PLW    387.0\n",
              "CDR    339.5\n",
              "TEN    349.5\n",
              "11B    391.0\n",
              "dtype: float64"
            ]
          },
          "metadata": {},
          "execution_count": 7
        }
      ]
    },
    {
      "cell_type": "code",
      "source": [
        "#Exercise 3\n",
        "\n",
        "quotations = quotations.tolist()\n",
        "quotations"
      ],
      "metadata": {
        "colab": {
          "base_uri": "https://localhost:8080/"
        },
        "id": "Le0TlajWtxMJ",
        "outputId": "fb0df163-e6f5-400f-b609-d62730c3b3a0"
      },
      "execution_count": null,
      "outputs": [
        {
          "output_type": "execute_result",
          "data": {
            "text/plain": [
              "[387.0, 339.5, 349.5, 391.0]"
            ]
          },
          "metadata": {},
          "execution_count": 11
        }
      ]
    },
    {
      "cell_type": "code",
      "source": [
        "#Exercise 4\n",
        "\n",
        "stocks = {'PLW': 387.00, 'CDR': 339.5, 'TEN': 349.5, '11B': 391.0}\n",
        "quotations = pd.Series(data=stocks)\n",
        "quotations = pd.DataFrame(quotations, columns=['price'])\n",
        "quotations"
      ],
      "metadata": {
        "colab": {
          "base_uri": "https://localhost:8080/",
          "height": 175
        },
        "id": "3Ps6r8J_ucQ3",
        "outputId": "6675a849-a774-4824-a73d-caeb4d7a38f3"
      },
      "execution_count": null,
      "outputs": [
        {
          "output_type": "execute_result",
          "data": {
            "text/plain": [
              "     price\n",
              "PLW  387.0\n",
              "CDR  339.5\n",
              "TEN  349.5\n",
              "11B  391.0"
            ],
            "text/html": [
              "\n",
              "  <div id=\"df-c0dbbaa8-44fe-4a04-8bae-150d39bfcd28\">\n",
              "    <div class=\"colab-df-container\">\n",
              "      <div>\n",
              "<style scoped>\n",
              "    .dataframe tbody tr th:only-of-type {\n",
              "        vertical-align: middle;\n",
              "    }\n",
              "\n",
              "    .dataframe tbody tr th {\n",
              "        vertical-align: top;\n",
              "    }\n",
              "\n",
              "    .dataframe thead th {\n",
              "        text-align: right;\n",
              "    }\n",
              "</style>\n",
              "<table border=\"1\" class=\"dataframe\">\n",
              "  <thead>\n",
              "    <tr style=\"text-align: right;\">\n",
              "      <th></th>\n",
              "      <th>price</th>\n",
              "    </tr>\n",
              "  </thead>\n",
              "  <tbody>\n",
              "    <tr>\n",
              "      <th>PLW</th>\n",
              "      <td>387.0</td>\n",
              "    </tr>\n",
              "    <tr>\n",
              "      <th>CDR</th>\n",
              "      <td>339.5</td>\n",
              "    </tr>\n",
              "    <tr>\n",
              "      <th>TEN</th>\n",
              "      <td>349.5</td>\n",
              "    </tr>\n",
              "    <tr>\n",
              "      <th>11B</th>\n",
              "      <td>391.0</td>\n",
              "    </tr>\n",
              "  </tbody>\n",
              "</table>\n",
              "</div>\n",
              "      <button class=\"colab-df-convert\" onclick=\"convertToInteractive('df-c0dbbaa8-44fe-4a04-8bae-150d39bfcd28')\"\n",
              "              title=\"Convert this dataframe to an interactive table.\"\n",
              "              style=\"display:none;\">\n",
              "        \n",
              "  <svg xmlns=\"http://www.w3.org/2000/svg\" height=\"24px\"viewBox=\"0 0 24 24\"\n",
              "       width=\"24px\">\n",
              "    <path d=\"M0 0h24v24H0V0z\" fill=\"none\"/>\n",
              "    <path d=\"M18.56 5.44l.94 2.06.94-2.06 2.06-.94-2.06-.94-.94-2.06-.94 2.06-2.06.94zm-11 1L8.5 8.5l.94-2.06 2.06-.94-2.06-.94L8.5 2.5l-.94 2.06-2.06.94zm10 10l.94 2.06.94-2.06 2.06-.94-2.06-.94-.94-2.06-.94 2.06-2.06.94z\"/><path d=\"M17.41 7.96l-1.37-1.37c-.4-.4-.92-.59-1.43-.59-.52 0-1.04.2-1.43.59L10.3 9.45l-7.72 7.72c-.78.78-.78 2.05 0 2.83L4 21.41c.39.39.9.59 1.41.59.51 0 1.02-.2 1.41-.59l7.78-7.78 2.81-2.81c.8-.78.8-2.07 0-2.86zM5.41 20L4 18.59l7.72-7.72 1.47 1.35L5.41 20z\"/>\n",
              "  </svg>\n",
              "      </button>\n",
              "      \n",
              "  <style>\n",
              "    .colab-df-container {\n",
              "      display:flex;\n",
              "      flex-wrap:wrap;\n",
              "      gap: 12px;\n",
              "    }\n",
              "\n",
              "    .colab-df-convert {\n",
              "      background-color: #E8F0FE;\n",
              "      border: none;\n",
              "      border-radius: 50%;\n",
              "      cursor: pointer;\n",
              "      display: none;\n",
              "      fill: #1967D2;\n",
              "      height: 32px;\n",
              "      padding: 0 0 0 0;\n",
              "      width: 32px;\n",
              "    }\n",
              "\n",
              "    .colab-df-convert:hover {\n",
              "      background-color: #E2EBFA;\n",
              "      box-shadow: 0px 1px 2px rgba(60, 64, 67, 0.3), 0px 1px 3px 1px rgba(60, 64, 67, 0.15);\n",
              "      fill: #174EA6;\n",
              "    }\n",
              "\n",
              "    [theme=dark] .colab-df-convert {\n",
              "      background-color: #3B4455;\n",
              "      fill: #D2E3FC;\n",
              "    }\n",
              "\n",
              "    [theme=dark] .colab-df-convert:hover {\n",
              "      background-color: #434B5C;\n",
              "      box-shadow: 0px 1px 3px 1px rgba(0, 0, 0, 0.15);\n",
              "      filter: drop-shadow(0px 1px 2px rgba(0, 0, 0, 0.3));\n",
              "      fill: #FFFFFF;\n",
              "    }\n",
              "  </style>\n",
              "\n",
              "      <script>\n",
              "        const buttonEl =\n",
              "          document.querySelector('#df-c0dbbaa8-44fe-4a04-8bae-150d39bfcd28 button.colab-df-convert');\n",
              "        buttonEl.style.display =\n",
              "          google.colab.kernel.accessAllowed ? 'block' : 'none';\n",
              "\n",
              "        async function convertToInteractive(key) {\n",
              "          const element = document.querySelector('#df-c0dbbaa8-44fe-4a04-8bae-150d39bfcd28');\n",
              "          const dataTable =\n",
              "            await google.colab.kernel.invokeFunction('convertToInteractive',\n",
              "                                                     [key], {});\n",
              "          if (!dataTable) return;\n",
              "\n",
              "          const docLinkHtml = 'Like what you see? Visit the ' +\n",
              "            '<a target=\"_blank\" href=https://colab.research.google.com/notebooks/data_table.ipynb>data table notebook</a>'\n",
              "            + ' to learn more about interactive tables.';\n",
              "          element.innerHTML = '';\n",
              "          dataTable['output_type'] = 'display_data';\n",
              "          await google.colab.output.renderOutput(dataTable, element);\n",
              "          const docLink = document.createElement('div');\n",
              "          docLink.innerHTML = docLinkHtml;\n",
              "          element.appendChild(docLink);\n",
              "        }\n",
              "      </script>\n",
              "    </div>\n",
              "  </div>\n",
              "  "
            ]
          },
          "metadata": {},
          "execution_count": 23
        }
      ]
    },
    {
      "cell_type": "code",
      "source": [
        "#Exercise 4\n",
        "\n",
        "import numpy as np\n",
        "\n",
        "s = pd.Series(\n",
        "    data=np.arange(10,100,10),\n",
        "    index=np.arange(101,110),\n",
        "    dtype='float'\n",
        ")\n",
        "\n",
        "print(s)\n"
      ],
      "metadata": {
        "colab": {
          "base_uri": "https://localhost:8080/"
        },
        "id": "y5bJmmuCucTl",
        "outputId": "4f63e5a1-8c22-47e2-f0c4-9113e3365b11"
      },
      "execution_count": null,
      "outputs": [
        {
          "output_type": "stream",
          "name": "stdout",
          "text": [
            "101    10.0\n",
            "102    20.0\n",
            "103    30.0\n",
            "104    40.0\n",
            "105    50.0\n",
            "106    60.0\n",
            "107    70.0\n",
            "108    80.0\n",
            "109    90.0\n",
            "dtype: float64\n"
          ]
        }
      ]
    },
    {
      "cell_type": "code",
      "source": [
        "#Exercise 5\n",
        "\n",
        "series = pd.Series(['001', '002', '003', '004'], list('abcd'))\n",
        "\n",
        "#1\n",
        "series = pd.to_numeric(series)\n",
        "print(series)\n",
        "\n",
        "#2\n",
        "series = series.astype('int')\n",
        "print(series)"
      ],
      "metadata": {
        "colab": {
          "base_uri": "https://localhost:8080/"
        },
        "id": "fAvp5eJ4ucWA",
        "outputId": "4c51651a-add4-4ff2-ec6f-93b1fbe47f8e"
      },
      "execution_count": null,
      "outputs": [
        {
          "output_type": "stream",
          "name": "stdout",
          "text": [
            "a    1\n",
            "b    2\n",
            "c    3\n",
            "d    4\n",
            "dtype: int64\n",
            "a    1\n",
            "b    2\n",
            "c    3\n",
            "d    4\n",
            "dtype: int64\n"
          ]
        }
      ]
    },
    {
      "cell_type": "code",
      "source": [
        "#Exercise 6\n",
        "\n",
        "stocks = {'PLW': 387.00, 'CDR': 339.5, 'TEN': 349.5, '11B': 391.0}\n",
        "quotations = pd.Series(data=stocks)\n",
        "\n",
        "quotations = quotations.append(pd.Series({'BBT':25.5,'F51':19.2}))\n",
        "quotations"
      ],
      "metadata": {
        "colab": {
          "base_uri": "https://localhost:8080/"
        },
        "id": "MgSofyEZucYW",
        "outputId": "6498b8cc-92e1-4596-caad-d6595a64c1ea"
      },
      "execution_count": null,
      "outputs": [
        {
          "output_type": "execute_result",
          "data": {
            "text/plain": [
              "PLW    387.0\n",
              "CDR    339.5\n",
              "TEN    349.5\n",
              "11B    391.0\n",
              "BBT     25.5\n",
              "F51     19.2\n",
              "dtype: float64"
            ]
          },
          "metadata": {},
          "execution_count": 37
        }
      ]
    },
    {
      "cell_type": "code",
      "source": [
        "#Exercise 7\n",
        "\n",
        "stocks = {\n",
        "    'PLW': 387.00, \n",
        "    'CDR': 339.5, \n",
        "    'TEN': 349.5, \n",
        "    '11B': 391.0, \n",
        "    'BBT': 25.5, \n",
        "    'F51': 19.2\n",
        "}\n",
        "quotations = pd.Series(data=stocks)\n",
        "quotations = pd.DataFrame(quotations).reset_index()\n",
        "quotations.columns = ['ticker', 'price']\n",
        "print(quotations)"
      ],
      "metadata": {
        "colab": {
          "base_uri": "https://localhost:8080/"
        },
        "id": "S5lDbwM1uca0",
        "outputId": "ec12f285-4282-4380-ad8c-0962534f5160"
      },
      "execution_count": null,
      "outputs": [
        {
          "output_type": "stream",
          "name": "stdout",
          "text": [
            "  ticker  price\n",
            "0    PLW  387.0\n",
            "1    CDR  339.5\n",
            "2    TEN  349.5\n",
            "3    11B  391.0\n",
            "4    BBT   25.5\n",
            "5    F51   19.2\n"
          ]
        }
      ]
    },
    {
      "cell_type": "code",
      "source": [
        "#Exercise 9\n",
        "\n",
        "data_dict = {\n",
        "    'company' : ['Amazon','Microsoft','Facebook'],\n",
        "    'price' : [2375.0,178.6,179.2],\n",
        "    'ticker' : ['AMZN.US','MSFT.US','FB.US']\n",
        "}\n",
        "\n",
        "companies = pd.DataFrame(data=data_dict)\n",
        "print(companies)"
      ],
      "metadata": {
        "colab": {
          "base_uri": "https://localhost:8080/",
          "height": 143
        },
        "id": "X4jHAHJr1OEF",
        "outputId": "40470dae-8c68-4e6f-b128-ef63f1241060"
      },
      "execution_count": null,
      "outputs": [
        {
          "output_type": "execute_result",
          "data": {
            "text/plain": [
              "     company   price   ticker\n",
              "0     Amazon  2375.0  AMZN.US\n",
              "1  Microsoft   178.6  MSFT.US\n",
              "2   Facebook   179.2    FB.US"
            ],
            "text/html": [
              "\n",
              "  <div id=\"df-2bc4ad13-ca54-4258-8404-7a8d2cc6df97\">\n",
              "    <div class=\"colab-df-container\">\n",
              "      <div>\n",
              "<style scoped>\n",
              "    .dataframe tbody tr th:only-of-type {\n",
              "        vertical-align: middle;\n",
              "    }\n",
              "\n",
              "    .dataframe tbody tr th {\n",
              "        vertical-align: top;\n",
              "    }\n",
              "\n",
              "    .dataframe thead th {\n",
              "        text-align: right;\n",
              "    }\n",
              "</style>\n",
              "<table border=\"1\" class=\"dataframe\">\n",
              "  <thead>\n",
              "    <tr style=\"text-align: right;\">\n",
              "      <th></th>\n",
              "      <th>company</th>\n",
              "      <th>price</th>\n",
              "      <th>ticker</th>\n",
              "    </tr>\n",
              "  </thead>\n",
              "  <tbody>\n",
              "    <tr>\n",
              "      <th>0</th>\n",
              "      <td>Amazon</td>\n",
              "      <td>2375.0</td>\n",
              "      <td>AMZN.US</td>\n",
              "    </tr>\n",
              "    <tr>\n",
              "      <th>1</th>\n",
              "      <td>Microsoft</td>\n",
              "      <td>178.6</td>\n",
              "      <td>MSFT.US</td>\n",
              "    </tr>\n",
              "    <tr>\n",
              "      <th>2</th>\n",
              "      <td>Facebook</td>\n",
              "      <td>179.2</td>\n",
              "      <td>FB.US</td>\n",
              "    </tr>\n",
              "  </tbody>\n",
              "</table>\n",
              "</div>\n",
              "      <button class=\"colab-df-convert\" onclick=\"convertToInteractive('df-2bc4ad13-ca54-4258-8404-7a8d2cc6df97')\"\n",
              "              title=\"Convert this dataframe to an interactive table.\"\n",
              "              style=\"display:none;\">\n",
              "        \n",
              "  <svg xmlns=\"http://www.w3.org/2000/svg\" height=\"24px\"viewBox=\"0 0 24 24\"\n",
              "       width=\"24px\">\n",
              "    <path d=\"M0 0h24v24H0V0z\" fill=\"none\"/>\n",
              "    <path d=\"M18.56 5.44l.94 2.06.94-2.06 2.06-.94-2.06-.94-.94-2.06-.94 2.06-2.06.94zm-11 1L8.5 8.5l.94-2.06 2.06-.94-2.06-.94L8.5 2.5l-.94 2.06-2.06.94zm10 10l.94 2.06.94-2.06 2.06-.94-2.06-.94-.94-2.06-.94 2.06-2.06.94z\"/><path d=\"M17.41 7.96l-1.37-1.37c-.4-.4-.92-.59-1.43-.59-.52 0-1.04.2-1.43.59L10.3 9.45l-7.72 7.72c-.78.78-.78 2.05 0 2.83L4 21.41c.39.39.9.59 1.41.59.51 0 1.02-.2 1.41-.59l7.78-7.78 2.81-2.81c.8-.78.8-2.07 0-2.86zM5.41 20L4 18.59l7.72-7.72 1.47 1.35L5.41 20z\"/>\n",
              "  </svg>\n",
              "      </button>\n",
              "      \n",
              "  <style>\n",
              "    .colab-df-container {\n",
              "      display:flex;\n",
              "      flex-wrap:wrap;\n",
              "      gap: 12px;\n",
              "    }\n",
              "\n",
              "    .colab-df-convert {\n",
              "      background-color: #E8F0FE;\n",
              "      border: none;\n",
              "      border-radius: 50%;\n",
              "      cursor: pointer;\n",
              "      display: none;\n",
              "      fill: #1967D2;\n",
              "      height: 32px;\n",
              "      padding: 0 0 0 0;\n",
              "      width: 32px;\n",
              "    }\n",
              "\n",
              "    .colab-df-convert:hover {\n",
              "      background-color: #E2EBFA;\n",
              "      box-shadow: 0px 1px 2px rgba(60, 64, 67, 0.3), 0px 1px 3px 1px rgba(60, 64, 67, 0.15);\n",
              "      fill: #174EA6;\n",
              "    }\n",
              "\n",
              "    [theme=dark] .colab-df-convert {\n",
              "      background-color: #3B4455;\n",
              "      fill: #D2E3FC;\n",
              "    }\n",
              "\n",
              "    [theme=dark] .colab-df-convert:hover {\n",
              "      background-color: #434B5C;\n",
              "      box-shadow: 0px 1px 3px 1px rgba(0, 0, 0, 0.15);\n",
              "      filter: drop-shadow(0px 1px 2px rgba(0, 0, 0, 0.3));\n",
              "      fill: #FFFFFF;\n",
              "    }\n",
              "  </style>\n",
              "\n",
              "      <script>\n",
              "        const buttonEl =\n",
              "          document.querySelector('#df-2bc4ad13-ca54-4258-8404-7a8d2cc6df97 button.colab-df-convert');\n",
              "        buttonEl.style.display =\n",
              "          google.colab.kernel.accessAllowed ? 'block' : 'none';\n",
              "\n",
              "        async function convertToInteractive(key) {\n",
              "          const element = document.querySelector('#df-2bc4ad13-ca54-4258-8404-7a8d2cc6df97');\n",
              "          const dataTable =\n",
              "            await google.colab.kernel.invokeFunction('convertToInteractive',\n",
              "                                                     [key], {});\n",
              "          if (!dataTable) return;\n",
              "\n",
              "          const docLinkHtml = 'Like what you see? Visit the ' +\n",
              "            '<a target=\"_blank\" href=https://colab.research.google.com/notebooks/data_table.ipynb>data table notebook</a>'\n",
              "            + ' to learn more about interactive tables.';\n",
              "          element.innerHTML = '';\n",
              "          dataTable['output_type'] = 'display_data';\n",
              "          await google.colab.output.renderOutput(dataTable, element);\n",
              "          const docLink = document.createElement('div');\n",
              "          docLink.innerHTML = docLinkHtml;\n",
              "          element.appendChild(docLink);\n",
              "        }\n",
              "      </script>\n",
              "    </div>\n",
              "  </div>\n",
              "  "
            ]
          },
          "metadata": {},
          "execution_count": 51
        }
      ]
    },
    {
      "cell_type": "code",
      "source": [
        "#Exercise 10\n",
        "\n",
        "data_dict = {\n",
        "    'company': ['Amazon', 'Microsoft', 'Facebook'],\n",
        "    'price': [2375.00, 178.6, 179.2],\n",
        "    'ticker': ['AMZN.US', 'MSFT.US', 'FB.US']\n",
        "}\n",
        "\n",
        "companies = pd.DataFrame(data=data_dict)\n",
        "companies = companies.set_index('company')\n",
        "print(companies)\n"
      ],
      "metadata": {
        "colab": {
          "base_uri": "https://localhost:8080/"
        },
        "id": "2DidROwj26h-",
        "outputId": "8e18805c-6894-4121-a425-bb9e6a08f775"
      },
      "execution_count": null,
      "outputs": [
        {
          "output_type": "stream",
          "name": "stdout",
          "text": [
            "            price   ticker\n",
            "company                   \n",
            "Amazon     2375.0  AMZN.US\n",
            "Microsoft   178.6  MSFT.US\n",
            "Facebook    179.2    FB.US\n"
          ]
        }
      ]
    },
    {
      "cell_type": "code",
      "source": [
        "#Exercise 11\n",
        "\n",
        "#1\n",
        "date_range1 = pd.date_range(start='2020-01-01', periods=31)\n",
        "print(date_range1)\n",
        "\n",
        "#2\n",
        "date_range2 = pd.date_range(start='2020-01-01', end='2020-01-31')\n",
        "print(date_range2)"
      ],
      "metadata": {
        "colab": {
          "base_uri": "https://localhost:8080/"
        },
        "id": "6Er0HQN1ucdC",
        "outputId": "60ab064a-b734-4126-bb1a-abc034c0a11c"
      },
      "execution_count": null,
      "outputs": [
        {
          "output_type": "stream",
          "name": "stdout",
          "text": [
            "DatetimeIndex(['2020-01-01', '2020-01-02', '2020-01-03', '2020-01-04',\n",
            "               '2020-01-05', '2020-01-06', '2020-01-07', '2020-01-08',\n",
            "               '2020-01-09', '2020-01-10', '2020-01-11', '2020-01-12',\n",
            "               '2020-01-13', '2020-01-14', '2020-01-15', '2020-01-16',\n",
            "               '2020-01-17', '2020-01-18', '2020-01-19', '2020-01-20',\n",
            "               '2020-01-21', '2020-01-22', '2020-01-23', '2020-01-24',\n",
            "               '2020-01-25', '2020-01-26', '2020-01-27', '2020-01-28',\n",
            "               '2020-01-29', '2020-01-30', '2020-01-31'],\n",
            "              dtype='datetime64[ns]', freq='D')\n",
            "DatetimeIndex(['2020-01-01', '2020-01-02', '2020-01-03', '2020-01-04',\n",
            "               '2020-01-05', '2020-01-06', '2020-01-07', '2020-01-08',\n",
            "               '2020-01-09', '2020-01-10', '2020-01-11', '2020-01-12',\n",
            "               '2020-01-13', '2020-01-14', '2020-01-15', '2020-01-16',\n",
            "               '2020-01-17', '2020-01-18', '2020-01-19', '2020-01-20',\n",
            "               '2020-01-21', '2020-01-22', '2020-01-23', '2020-01-24',\n",
            "               '2020-01-25', '2020-01-26', '2020-01-27', '2020-01-28',\n",
            "               '2020-01-29', '2020-01-30', '2020-01-31'],\n",
            "              dtype='datetime64[ns]', freq='D')\n"
          ]
        }
      ]
    },
    {
      "cell_type": "code",
      "source": [
        "#Exercise 12\n",
        "\n",
        "#1\n",
        "date_range_monday1 = pd.date_range(start='2020-01-01', periods=52, freq='W-MON')\n",
        "print(date_range_monday1)\n",
        "\n",
        "#2\n",
        "date_range_monday2 = pd.date_range(\n",
        "    start='2020-01-01', \n",
        "    end='2020-12-31', \n",
        "    freq='W-MON'\n",
        ")\n",
        "print(date_range_monday2)"
      ],
      "metadata": {
        "colab": {
          "base_uri": "https://localhost:8080/"
        },
        "id": "MiKTKcDL6itY",
        "outputId": "498b46a5-6b56-4404-8b54-acd17aa418e8"
      },
      "execution_count": null,
      "outputs": [
        {
          "output_type": "stream",
          "name": "stdout",
          "text": [
            "DatetimeIndex(['2020-01-06', '2020-01-13', '2020-01-20', '2020-01-27',\n",
            "               '2020-02-03', '2020-02-10', '2020-02-17', '2020-02-24',\n",
            "               '2020-03-02', '2020-03-09', '2020-03-16', '2020-03-23',\n",
            "               '2020-03-30', '2020-04-06', '2020-04-13', '2020-04-20',\n",
            "               '2020-04-27', '2020-05-04', '2020-05-11', '2020-05-18',\n",
            "               '2020-05-25', '2020-06-01', '2020-06-08', '2020-06-15',\n",
            "               '2020-06-22', '2020-06-29', '2020-07-06', '2020-07-13',\n",
            "               '2020-07-20', '2020-07-27', '2020-08-03', '2020-08-10',\n",
            "               '2020-08-17', '2020-08-24', '2020-08-31', '2020-09-07',\n",
            "               '2020-09-14', '2020-09-21', '2020-09-28', '2020-10-05',\n",
            "               '2020-10-12', '2020-10-19', '2020-10-26', '2020-11-02',\n",
            "               '2020-11-09', '2020-11-16', '2020-11-23', '2020-11-30',\n",
            "               '2020-12-07', '2020-12-14', '2020-12-21', '2020-12-28'],\n",
            "              dtype='datetime64[ns]', freq='W-MON')\n",
            "DatetimeIndex(['2020-01-06', '2020-01-13', '2020-01-20', '2020-01-27',\n",
            "               '2020-02-03', '2020-02-10', '2020-02-17', '2020-02-24',\n",
            "               '2020-03-02', '2020-03-09', '2020-03-16', '2020-03-23',\n",
            "               '2020-03-30', '2020-04-06', '2020-04-13', '2020-04-20',\n",
            "               '2020-04-27', '2020-05-04', '2020-05-11', '2020-05-18',\n",
            "               '2020-05-25', '2020-06-01', '2020-06-08', '2020-06-15',\n",
            "               '2020-06-22', '2020-06-29', '2020-07-06', '2020-07-13',\n",
            "               '2020-07-20', '2020-07-27', '2020-08-03', '2020-08-10',\n",
            "               '2020-08-17', '2020-08-24', '2020-08-31', '2020-09-07',\n",
            "               '2020-09-14', '2020-09-21', '2020-09-28', '2020-10-05',\n",
            "               '2020-10-12', '2020-10-19', '2020-10-26', '2020-11-02',\n",
            "               '2020-11-09', '2020-11-16', '2020-11-23', '2020-11-30',\n",
            "               '2020-12-07', '2020-12-14', '2020-12-21', '2020-12-28'],\n",
            "              dtype='datetime64[ns]', freq='W-MON')\n"
          ]
        }
      ]
    },
    {
      "cell_type": "code",
      "source": [
        "#Exercise 13\n",
        "\n",
        "#1\n",
        "date_range = pd.date_range(start='2021-01-01 00:00:00', periods=24, freq='H')\n",
        "date_range\n",
        "\n",
        "#2\n",
        "#date_range = pd.date_range(\n",
        "#    start='2021-01-01', \n",
        "#    end='2021-01-02', \n",
        "#    freq='H', \n",
        "#    closed='left')\n",
        "#print(date_range)"
      ],
      "metadata": {
        "colab": {
          "base_uri": "https://localhost:8080/"
        },
        "id": "eEYqHX_n6iwb",
        "outputId": "0e7bdebb-f6e8-4392-f0b8-3fa733eb4587"
      },
      "execution_count": null,
      "outputs": [
        {
          "output_type": "execute_result",
          "data": {
            "text/plain": [
              "DatetimeIndex(['2021-01-01 00:00:00', '2021-01-01 01:00:00',\n",
              "               '2021-01-01 02:00:00', '2021-01-01 03:00:00',\n",
              "               '2021-01-01 04:00:00', '2021-01-01 05:00:00',\n",
              "               '2021-01-01 06:00:00', '2021-01-01 07:00:00',\n",
              "               '2021-01-01 08:00:00', '2021-01-01 09:00:00',\n",
              "               '2021-01-01 10:00:00', '2021-01-01 11:00:00',\n",
              "               '2021-01-01 12:00:00', '2021-01-01 13:00:00',\n",
              "               '2021-01-01 14:00:00', '2021-01-01 15:00:00',\n",
              "               '2021-01-01 16:00:00', '2021-01-01 17:00:00',\n",
              "               '2021-01-01 18:00:00', '2021-01-01 19:00:00',\n",
              "               '2021-01-01 20:00:00', '2021-01-01 21:00:00',\n",
              "               '2021-01-01 22:00:00', '2021-01-01 23:00:00'],\n",
              "              dtype='datetime64[ns]', freq='H')"
            ]
          },
          "metadata": {},
          "execution_count": 61
        }
      ]
    },
    {
      "cell_type": "code",
      "source": [
        "#Exercise 14\n",
        "\n",
        "s = {\n",
        "  'day' : pd.date_range(start='2021-03-01', end='2021-03-31'),\n",
        "  'day_of_year' : np.arange(60,91)\n",
        "\n",
        "}\n",
        "\n",
        "df = pd.DataFrame(data=s)\n",
        "print(df)"
      ],
      "metadata": {
        "id": "GAvfYLBD6iys",
        "colab": {
          "base_uri": "https://localhost:8080/"
        },
        "outputId": "d6cdb482-360c-4142-bd13-5faa5b875be8"
      },
      "execution_count": 65,
      "outputs": [
        {
          "output_type": "stream",
          "name": "stdout",
          "text": [
            "          day  day_of_year\n",
            "0  2021-03-01           60\n",
            "1  2021-03-02           61\n",
            "2  2021-03-03           62\n",
            "3  2021-03-04           63\n",
            "4  2021-03-05           64\n",
            "5  2021-03-06           65\n",
            "6  2021-03-07           66\n",
            "7  2021-03-08           67\n",
            "8  2021-03-09           68\n",
            "9  2021-03-10           69\n",
            "10 2021-03-11           70\n",
            "11 2021-03-12           71\n",
            "12 2021-03-13           72\n",
            "13 2021-03-14           73\n",
            "14 2021-03-15           74\n",
            "15 2021-03-16           75\n",
            "16 2021-03-17           76\n",
            "17 2021-03-18           77\n",
            "18 2021-03-19           78\n",
            "19 2021-03-20           79\n",
            "20 2021-03-21           80\n",
            "21 2021-03-22           81\n",
            "22 2021-03-23           82\n",
            "23 2021-03-24           83\n",
            "24 2021-03-25           84\n",
            "25 2021-03-26           85\n",
            "26 2021-03-27           86\n",
            "27 2021-03-28           87\n",
            "28 2021-03-29           88\n",
            "29 2021-03-30           89\n",
            "30 2021-03-31           90\n"
          ]
        }
      ]
    },
    {
      "cell_type": "code",
      "source": [
        "#2\n",
        "\n",
        "date_range = pd.date_range(start='2021-03-01', periods=31)\n",
        "df = pd.DataFrame(data=date_range, columns=['day'])\n",
        "df['day_of_year'] = df['day'].dt.dayofyear\n",
        "print(df)"
      ],
      "metadata": {
        "id": "p7To8dpi6i1S"
      },
      "execution_count": null,
      "outputs": []
    },
    {
      "cell_type": "code",
      "source": [
        "#Exercise 15\n",
        "\n",
        "np.random.seed(42)\n",
        "\n",
        "data_dict = {\n",
        "    'normal': np.random.normal(loc=0, scale=1, size=1000),\n",
        "    'uniform': np.random.uniform(low=0, high=1, size=1000),\n",
        "    'binomial': np.random.binomial(n=1, p=0.2, size=1000)\n",
        "}\n",
        "\n",
        "df = pd.DataFrame(\n",
        "    data=data_dict,\n",
        "    index=pd.date_range('2020-01-01', periods=1000)\n",
        ")\n",
        "\n",
        "print(df)"
      ],
      "metadata": {
        "id": "JzOSgdLS6i3c",
        "colab": {
          "base_uri": "https://localhost:8080/"
        },
        "outputId": "b8d8055d-62fd-4cdb-d965-24a661dcb574"
      },
      "execution_count": 70,
      "outputs": [
        {
          "output_type": "stream",
          "name": "stdout",
          "text": [
            "              normal   uniform  binomial\n",
            "2020-01-01  0.496714  0.167483         0\n",
            "2020-01-02 -0.138264  0.104568         0\n",
            "2020-01-03  0.647689  0.636430         0\n",
            "2020-01-04  1.523030  0.706476         0\n",
            "2020-01-05 -0.234153  0.031586         1\n",
            "...              ...       ...       ...\n",
            "2022-09-22 -0.281100  0.280683         1\n",
            "2022-09-23  1.797687  0.206993         0\n",
            "2022-09-24  0.640843  0.516573         0\n",
            "2022-09-25 -0.571179  0.005506         1\n",
            "2022-09-26  0.572583  0.007664         0\n",
            "\n",
            "[1000 rows x 3 columns]\n"
          ]
        }
      ]
    },
    {
      "cell_type": "code",
      "source": [
        "#Exercise 16\n",
        "\n",
        "print(df.head(10))\n",
        "print('\\n')\n",
        "print(df.tail(10))"
      ],
      "metadata": {
        "colab": {
          "base_uri": "https://localhost:8080/"
        },
        "id": "8AScf1GfegOM",
        "outputId": "7cfd6e46-34de-40c2-8d88-e9967277d73e"
      },
      "execution_count": 72,
      "outputs": [
        {
          "output_type": "stream",
          "name": "stdout",
          "text": [
            "              normal   uniform  binomial\n",
            "2020-01-01  0.496714  0.167483         0\n",
            "2020-01-02 -0.138264  0.104568         0\n",
            "2020-01-03  0.647689  0.636430         0\n",
            "2020-01-04  1.523030  0.706476         0\n",
            "2020-01-05 -0.234153  0.031586         1\n",
            "2020-01-06 -0.234137  0.936212         0\n",
            "2020-01-07  1.579213  0.051971         0\n",
            "2020-01-08  0.767435  0.541296         0\n",
            "2020-01-09 -0.469474  0.709061         1\n",
            "2020-01-10  0.542560  0.870969         0\n",
            "\n",
            "\n",
            "              normal   uniform  binomial\n",
            "2022-09-17  0.208383  0.971533         0\n",
            "2022-09-18 -2.041735  0.331347         1\n",
            "2022-09-19 -0.247177  0.482041         1\n",
            "2022-09-20 -0.681984  0.196098         0\n",
            "2022-09-21 -1.001620  0.610780         0\n",
            "2022-09-22 -0.281100  0.280683         1\n",
            "2022-09-23  1.797687  0.206993         0\n",
            "2022-09-24  0.640843  0.516573         0\n",
            "2022-09-25 -0.571179  0.005506         1\n",
            "2022-09-26  0.572583  0.007664         0\n"
          ]
        }
      ]
    },
    {
      "cell_type": "code",
      "source": [
        "#Exercise 17\n",
        "\n",
        "df.info()\n",
        "print()\n",
        "df.describe()"
      ],
      "metadata": {
        "colab": {
          "base_uri": "https://localhost:8080/",
          "height": 509
        },
        "id": "aGzNXJxiegQh",
        "outputId": "2cd5cc1f-76fe-4ef7-9259-65b9630a1caa"
      },
      "execution_count": 73,
      "outputs": [
        {
          "output_type": "stream",
          "name": "stdout",
          "text": [
            "<class 'pandas.core.frame.DataFrame'>\n",
            "DatetimeIndex: 1000 entries, 2020-01-01 to 2022-09-26\n",
            "Freq: D\n",
            "Data columns (total 3 columns):\n",
            " #   Column    Non-Null Count  Dtype  \n",
            "---  ------    --------------  -----  \n",
            " 0   normal    1000 non-null   float64\n",
            " 1   uniform   1000 non-null   float64\n",
            " 2   binomial  1000 non-null   int64  \n",
            "dtypes: float64(2), int64(1)\n",
            "memory usage: 31.2 KB\n",
            "\n"
          ]
        },
        {
          "output_type": "execute_result",
          "data": {
            "text/plain": [
              "            normal      uniform    binomial\n",
              "count  1000.000000  1000.000000  1000.00000\n",
              "mean      0.019332     0.503649     0.19200\n",
              "std       0.979216     0.288357     0.39407\n",
              "min      -3.241267     0.003218     0.00000\n",
              "25%      -0.647590     0.247199     0.00000\n",
              "50%       0.025301     0.516126     0.00000\n",
              "75%       0.647944     0.746319     0.00000\n",
              "max       3.852731     0.999414     1.00000"
            ],
            "text/html": [
              "\n",
              "  <div id=\"df-f780bf41-28c7-428f-bf50-39e772d95ca0\">\n",
              "    <div class=\"colab-df-container\">\n",
              "      <div>\n",
              "<style scoped>\n",
              "    .dataframe tbody tr th:only-of-type {\n",
              "        vertical-align: middle;\n",
              "    }\n",
              "\n",
              "    .dataframe tbody tr th {\n",
              "        vertical-align: top;\n",
              "    }\n",
              "\n",
              "    .dataframe thead th {\n",
              "        text-align: right;\n",
              "    }\n",
              "</style>\n",
              "<table border=\"1\" class=\"dataframe\">\n",
              "  <thead>\n",
              "    <tr style=\"text-align: right;\">\n",
              "      <th></th>\n",
              "      <th>normal</th>\n",
              "      <th>uniform</th>\n",
              "      <th>binomial</th>\n",
              "    </tr>\n",
              "  </thead>\n",
              "  <tbody>\n",
              "    <tr>\n",
              "      <th>count</th>\n",
              "      <td>1000.000000</td>\n",
              "      <td>1000.000000</td>\n",
              "      <td>1000.00000</td>\n",
              "    </tr>\n",
              "    <tr>\n",
              "      <th>mean</th>\n",
              "      <td>0.019332</td>\n",
              "      <td>0.503649</td>\n",
              "      <td>0.19200</td>\n",
              "    </tr>\n",
              "    <tr>\n",
              "      <th>std</th>\n",
              "      <td>0.979216</td>\n",
              "      <td>0.288357</td>\n",
              "      <td>0.39407</td>\n",
              "    </tr>\n",
              "    <tr>\n",
              "      <th>min</th>\n",
              "      <td>-3.241267</td>\n",
              "      <td>0.003218</td>\n",
              "      <td>0.00000</td>\n",
              "    </tr>\n",
              "    <tr>\n",
              "      <th>25%</th>\n",
              "      <td>-0.647590</td>\n",
              "      <td>0.247199</td>\n",
              "      <td>0.00000</td>\n",
              "    </tr>\n",
              "    <tr>\n",
              "      <th>50%</th>\n",
              "      <td>0.025301</td>\n",
              "      <td>0.516126</td>\n",
              "      <td>0.00000</td>\n",
              "    </tr>\n",
              "    <tr>\n",
              "      <th>75%</th>\n",
              "      <td>0.647944</td>\n",
              "      <td>0.746319</td>\n",
              "      <td>0.00000</td>\n",
              "    </tr>\n",
              "    <tr>\n",
              "      <th>max</th>\n",
              "      <td>3.852731</td>\n",
              "      <td>0.999414</td>\n",
              "      <td>1.00000</td>\n",
              "    </tr>\n",
              "  </tbody>\n",
              "</table>\n",
              "</div>\n",
              "      <button class=\"colab-df-convert\" onclick=\"convertToInteractive('df-f780bf41-28c7-428f-bf50-39e772d95ca0')\"\n",
              "              title=\"Convert this dataframe to an interactive table.\"\n",
              "              style=\"display:none;\">\n",
              "        \n",
              "  <svg xmlns=\"http://www.w3.org/2000/svg\" height=\"24px\"viewBox=\"0 0 24 24\"\n",
              "       width=\"24px\">\n",
              "    <path d=\"M0 0h24v24H0V0z\" fill=\"none\"/>\n",
              "    <path d=\"M18.56 5.44l.94 2.06.94-2.06 2.06-.94-2.06-.94-.94-2.06-.94 2.06-2.06.94zm-11 1L8.5 8.5l.94-2.06 2.06-.94-2.06-.94L8.5 2.5l-.94 2.06-2.06.94zm10 10l.94 2.06.94-2.06 2.06-.94-2.06-.94-.94-2.06-.94 2.06-2.06.94z\"/><path d=\"M17.41 7.96l-1.37-1.37c-.4-.4-.92-.59-1.43-.59-.52 0-1.04.2-1.43.59L10.3 9.45l-7.72 7.72c-.78.78-.78 2.05 0 2.83L4 21.41c.39.39.9.59 1.41.59.51 0 1.02-.2 1.41-.59l7.78-7.78 2.81-2.81c.8-.78.8-2.07 0-2.86zM5.41 20L4 18.59l7.72-7.72 1.47 1.35L5.41 20z\"/>\n",
              "  </svg>\n",
              "      </button>\n",
              "      \n",
              "  <style>\n",
              "    .colab-df-container {\n",
              "      display:flex;\n",
              "      flex-wrap:wrap;\n",
              "      gap: 12px;\n",
              "    }\n",
              "\n",
              "    .colab-df-convert {\n",
              "      background-color: #E8F0FE;\n",
              "      border: none;\n",
              "      border-radius: 50%;\n",
              "      cursor: pointer;\n",
              "      display: none;\n",
              "      fill: #1967D2;\n",
              "      height: 32px;\n",
              "      padding: 0 0 0 0;\n",
              "      width: 32px;\n",
              "    }\n",
              "\n",
              "    .colab-df-convert:hover {\n",
              "      background-color: #E2EBFA;\n",
              "      box-shadow: 0px 1px 2px rgba(60, 64, 67, 0.3), 0px 1px 3px 1px rgba(60, 64, 67, 0.15);\n",
              "      fill: #174EA6;\n",
              "    }\n",
              "\n",
              "    [theme=dark] .colab-df-convert {\n",
              "      background-color: #3B4455;\n",
              "      fill: #D2E3FC;\n",
              "    }\n",
              "\n",
              "    [theme=dark] .colab-df-convert:hover {\n",
              "      background-color: #434B5C;\n",
              "      box-shadow: 0px 1px 3px 1px rgba(0, 0, 0, 0.15);\n",
              "      filter: drop-shadow(0px 1px 2px rgba(0, 0, 0, 0.3));\n",
              "      fill: #FFFFFF;\n",
              "    }\n",
              "  </style>\n",
              "\n",
              "      <script>\n",
              "        const buttonEl =\n",
              "          document.querySelector('#df-f780bf41-28c7-428f-bf50-39e772d95ca0 button.colab-df-convert');\n",
              "        buttonEl.style.display =\n",
              "          google.colab.kernel.accessAllowed ? 'block' : 'none';\n",
              "\n",
              "        async function convertToInteractive(key) {\n",
              "          const element = document.querySelector('#df-f780bf41-28c7-428f-bf50-39e772d95ca0');\n",
              "          const dataTable =\n",
              "            await google.colab.kernel.invokeFunction('convertToInteractive',\n",
              "                                                     [key], {});\n",
              "          if (!dataTable) return;\n",
              "\n",
              "          const docLinkHtml = 'Like what you see? Visit the ' +\n",
              "            '<a target=\"_blank\" href=https://colab.research.google.com/notebooks/data_table.ipynb>data table notebook</a>'\n",
              "            + ' to learn more about interactive tables.';\n",
              "          element.innerHTML = '';\n",
              "          dataTable['output_type'] = 'display_data';\n",
              "          await google.colab.output.renderOutput(dataTable, element);\n",
              "          const docLink = document.createElement('div');\n",
              "          docLink.innerHTML = docLinkHtml;\n",
              "          element.appendChild(docLink);\n",
              "        }\n",
              "      </script>\n",
              "    </div>\n",
              "  </div>\n",
              "  "
            ]
          },
          "metadata": {},
          "execution_count": 73
        }
      ]
    },
    {
      "cell_type": "code",
      "source": [
        "#Exercise 18\n",
        "\n",
        "df['binomial'].value_counts()"
      ],
      "metadata": {
        "colab": {
          "base_uri": "https://localhost:8080/"
        },
        "id": "AzUlWoptegTQ",
        "outputId": "e2b0cd17-7299-4d78-f500-131daf260682"
      },
      "execution_count": 74,
      "outputs": [
        {
          "output_type": "execute_result",
          "data": {
            "text/plain": [
              "0    808\n",
              "1    192\n",
              "Name: binomial, dtype: int64"
            ]
          },
          "metadata": {},
          "execution_count": 74
        }
      ]
    },
    {
      "cell_type": "code",
      "source": [
        "#Exercise 19\n",
        "\n",
        "df[:50].to_csv('dataframe50.csv', sep=',')"
      ],
      "metadata": {
        "id": "IOa11KTzegVd"
      },
      "execution_count": 75,
      "outputs": []
    },
    {
      "cell_type": "code",
      "source": [
        "#Exercise 20\n",
        "\n",
        "df_new = pd.read_csv('dataframe50.csv', index_col=0)\n",
        "print(df_new)"
      ],
      "metadata": {
        "id": "ZBRXoI23egXy"
      },
      "execution_count": null,
      "outputs": []
    },
    {
      "cell_type": "code",
      "source": [
        "#Exercise 21\n",
        "\n",
        "google = pd.read_csv('google.csv')\n",
        "print(google)"
      ],
      "metadata": {
        "id": "1EVuUbkzlXyb"
      },
      "execution_count": null,
      "outputs": []
    },
    {
      "cell_type": "code",
      "source": [
        "#Exercise 22\n",
        "\n",
        "google = pd.read_csv('google.csv')\n",
        "\n",
        "print(google.info())\n",
        "print()\n",
        "print(google.describe())"
      ],
      "metadata": {
        "id": "FWKTUWlklX04"
      },
      "execution_count": null,
      "outputs": []
    },
    {
      "cell_type": "code",
      "source": [
        "#Exercise 23\n",
        "\n",
        "google = pd.read_csv('google.csv', index_col=0)\n",
        "google = google.reset_index()\n",
        "print(google)"
      ],
      "metadata": {
        "id": "WEFX5KY6lX3d"
      },
      "execution_count": null,
      "outputs": []
    },
    {
      "cell_type": "code",
      "source": [
        "#Exercise 24\n",
        "\n",
        "google = pd.read_csv('google.csv', index_col=0)\n",
        "google = google.reset_index()\n",
        "google['Date'] = pd.to_datetime(google['Date'])\n",
        "\n",
        "google['Year'] = google['Date'].dt.year\n",
        "google['Month'] = google['Date'].dt.month\n",
        "print(google)"
      ],
      "metadata": {
        "id": "l8Am0FILlX5y"
      },
      "execution_count": null,
      "outputs": []
    },
    {
      "cell_type": "code",
      "source": [
        "#Exercise 25\n",
        "\n",
        "google = pd.read_csv('google.csv', index_col=0)\n",
        "google = google.reset_index()\n",
        "google['Date'] = pd.to_datetime(google['Date'])\n",
        "google['Year'] = google['Date'].dt.year\n",
        "google['Month'] = google['Date'].dt.month\n",
        "print(google.groupby('Month')['Close'].mean())"
      ],
      "metadata": {
        "id": "rYx3EdoplX8Y"
      },
      "execution_count": null,
      "outputs": []
    },
    {
      "cell_type": "code",
      "source": [
        "#Exercise 26\n",
        "\n",
        "idx_min = google['Close'].min()\n",
        "print(google.iloc[[idx_min]])"
      ],
      "metadata": {
        "id": "gfM3ZKnIlX-2"
      },
      "execution_count": null,
      "outputs": []
    },
    {
      "cell_type": "code",
      "source": [
        "#Exercise 27\n",
        "\n",
        "google = pd.read_csv('google.csv', index_col=0)\n",
        "google = google.reset_index()\n",
        "print(google[['Date', 'Open', 'Close', 'Volume']])"
      ],
      "metadata": {
        "id": "eloBqQSjlYBb"
      },
      "execution_count": null,
      "outputs": []
    },
    {
      "cell_type": "code",
      "source": [
        "#Exercise 28\n",
        "\n",
        "google = pd.read_csv('google.csv')\n",
        "google = google.set_index('Date')\n",
        "print(google)"
      ],
      "metadata": {
        "id": "lWuyIaORqNv1"
      },
      "execution_count": null,
      "outputs": []
    },
    {
      "cell_type": "code",
      "source": [
        "#Excercise 29\n",
        "\n",
        "google = pd.read_csv('google.csv')\n",
        "google['Date'] = pd.to_datetime(google['Date'])\n",
        "google['Year'] = google['Date'].dt.year\n",
        "google['Month'] = google['Date'].dt.month\n",
        "\n",
        "print(google.drop(columns=['Year','Month']))"
      ],
      "metadata": {
        "id": "E9Bm5WYApe9Z"
      },
      "execution_count": null,
      "outputs": []
    },
    {
      "cell_type": "code",
      "source": [
        ""
      ],
      "metadata": {
        "id": "VrGCOHXDpe_u"
      },
      "execution_count": null,
      "outputs": []
    },
    {
      "cell_type": "code",
      "source": [
        ""
      ],
      "metadata": {
        "id": "evu_Y4d3pfCO"
      },
      "execution_count": null,
      "outputs": []
    },
    {
      "cell_type": "code",
      "source": [
        ""
      ],
      "metadata": {
        "id": "xfdR8u0bpfEv"
      },
      "execution_count": null,
      "outputs": []
    },
    {
      "cell_type": "code",
      "source": [
        ""
      ],
      "metadata": {
        "id": "kW_vYdw1pfHY"
      },
      "execution_count": null,
      "outputs": []
    },
    {
      "cell_type": "code",
      "source": [
        ""
      ],
      "metadata": {
        "id": "8YGdHkN4pfJ4"
      },
      "execution_count": null,
      "outputs": []
    },
    {
      "cell_type": "code",
      "source": [
        ""
      ],
      "metadata": {
        "id": "le5w26rapfMg"
      },
      "execution_count": null,
      "outputs": []
    },
    {
      "cell_type": "code",
      "source": [
        ""
      ],
      "metadata": {
        "id": "Rwi0Mag1pfO7"
      },
      "execution_count": null,
      "outputs": []
    },
    {
      "cell_type": "code",
      "source": [
        ""
      ],
      "metadata": {
        "id": "JaWyAEjKpfRn"
      },
      "execution_count": null,
      "outputs": []
    }
  ]
}